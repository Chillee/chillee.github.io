{
 "cells": [
  {
   "cell_type": "code",
   "execution_count": 1,
   "metadata": {},
   "outputs": [],
   "source": [
    "import matplotlib.pyplot as plt"
   ]
  },
  {
   "cell_type": "code",
   "execution_count": 3,
   "metadata": {},
   "outputs": [
    {
     "data": {
      "text/plain": [
       "[<matplotlib.lines.Line2D at 0x7fdb950958d0>]"
      ]
     },
     "execution_count": 3,
     "metadata": {},
     "output_type": "execute_result"
    },
    {
     "data": {
      "image/png": "[encoded data removed]",
      "text/plain": [
       "<Figure size 432x288 with 1 Axes>"
      ]
     },
     "metadata": {
      "needs_background": "light"
     },
     "output_type": "display_data"
    }
   ],
   "source": [
    "FA16 = [(4,3.7), (3,4),(4,3.7),(3,3.7),(4,3.3)]\n",
    "SP17 = [(4,3.0), (3,3.3),(4,3.7),(4,2.3),(4,2.7)]\n",
    "FA17 = [(3,3.3),(4,1.7),(3,3.7),(3,4)]\n",
    "SP18 = [(3,2.7),(2,2.7),(4,4),(4,3),(3,3),(4,3.3)]\n",
    "FA18 = [(2, 3.3),(3,3.3),(4,2.3),(3,3)]\n",
    "SP19 = [(4, 2.3),(4,3.7),(4,2),(4,2.3)]\n",
    "FA19 = [(4, 1), (4, 3.7), (4, 3), (3, 3.3), (4, 1.7)]\n",
    "SP20 = [(4, 2.7), (4, 1.7),(4,2)]\n",
    "\n",
    "def gpa(x):\n",
    "    tot = 0\n",
    "    creds = 0\n",
    "    for a, b in x:\n",
    "        tot += a*b\n",
    "        creds += a\n",
    "    return tot/creds\n",
    "\n",
    "grades = [FA16, SP17, FA17, SP18, FA18, SP19, FA19, SP20]\n",
    "gpa = [gpa(i) for i in grades]\n",
    "plt.axis('off')\n",
    "plt.plot(gpa)"
   ]
  }
 ],
 "metadata": {
  "kernelspec": {
   "display_name": "Python 3",
   "language": "python",
   "name": "python3"
  },
  "language_info": {
   "codemirror_mode": {
    "name": "ipython",
    "version": 3
   },
   "file_extension": ".py",
   "mimetype": "text/x-python",
   "name": "python",
   "nbconvert_exporter": "python",
   "pygments_lexer": "ipython3",
   "version": "3.7.4"
  }
 },
 "nbformat": 4,
 "nbformat_minor": 2
}
